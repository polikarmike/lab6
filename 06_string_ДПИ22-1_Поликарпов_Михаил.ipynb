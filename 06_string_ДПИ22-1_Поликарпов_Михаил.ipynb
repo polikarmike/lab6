{
 "cells": [
  {
   "cell_type": "markdown",
   "metadata": {},
   "source": [
    "# Работа со строковыми значениями"
   ]
  },
  {
   "cell_type": "markdown",
   "metadata": {},
   "source": [
    "## Лабораторная работа 6"
   ]
  },
  {
   "cell_type": "markdown",
   "metadata": {},
   "source": [
    "### Форматирование строк"
   ]
  },
  {
   "cell_type": "code",
   "execution_count": 1,
   "metadata": {},
   "outputs": [],
   "source": [
    "import pandas as pd\n",
    "from bs4 import BeautifulSoup\n",
    "import re\n",
    "import nltk\n",
    "# nltk.download('punkt')\n",
    "# nltk.download('averaged_perceptron_tagger')"
   ]
  },
  {
   "cell_type": "markdown",
   "metadata": {},
   "source": [
    "1. Загрузите данные из файла `recipes_sample.csv` (__ЛР2__) в виде `pd.DataFrame` `recipes` При помощи форматирования строк выведите информацию об id рецепта и времени выполнения 5 случайных рецептов в виде таблицы следующего вида:\n",
    "\n",
    "    \n",
    "    |      id      |  minutes  |\n",
    "    |--------------------------|\n",
    "    |    61178     |    65     |\n",
    "    |    202352    |    80     |\n",
    "    |    364322    |    150    |\n",
    "    |    26177     |    20     |\n",
    "    |    224785    |    35     |\n",
    "    \n",
    "Обратите внимание, что ширина столбцов заранее неизвестна и должна рассчитываться динамически, в зависимости от тех данных, которые были выбраны. "
   ]
  },
  {
   "cell_type": "code",
   "execution_count": 2,
   "metadata": {},
   "outputs": [],
   "source": [
    "# загрузка данных из файла\n",
    "recipes = pd.read_csv('data/recipes_sample.csv')"
   ]
  },
  {
   "cell_type": "code",
   "execution_count": 3,
   "metadata": {},
   "outputs": [],
   "source": [
    "# выборка 5 случайных рецептов\n",
    "recipes_sample = recipes.sample(5)"
   ]
  },
  {
   "cell_type": "code",
   "execution_count": 4,
   "metadata": {},
   "outputs": [
    {
     "name": "stdout",
     "output_type": "stream",
     "text": [
      "|      id      |  minutes  |\n",
      "|--------------------------|\n",
      "|    131087    |    30     |\n",
      "|    201496    |    30     |\n",
      "|    103892    |    135    |\n",
      "|    451177    |    70     |\n",
      "|    124320    |    45     |\n"
     ]
    }
   ],
   "source": [
    "# форматирование строк и вывод таблицы\n",
    "print(\"|{:^14}|{:^11}|\".format(\"id\", \"minutes\"))\n",
    "print(\"|\" + \"-\"*26 + \"|\")\n",
    "for i in range(len(recipes_sample)):\n",
    "    print(\"|    {:<10}|    {:<7}|\".format(recipes_sample.iloc[i][\"id\"], recipes_sample.iloc[i][\"minutes\"]))"
   ]
  },
  {
   "cell_type": "code",
   "execution_count": 5,
   "metadata": {},
   "outputs": [
    {
     "name": "stdout",
     "output_type": "stream",
     "text": [
      "|   id   |  minutes  |\n",
      "|--------+-----------|\n",
      "| 142732 |    10     |\n",
      "| 266928 |    320    |\n",
      "| 19162  |    35     |\n",
      "| 202058 |    35     |\n",
      "| 133077 |    18     |\n"
     ]
    }
   ],
   "source": [
    "# Дополнительный вариант решения с памощью Pandas\n",
    "print(recipes[['id', 'minutes']].sample(5).to_markdown(index=False, \n",
    "                                                       tablefmt=\"orgtbl\", \n",
    "                                                       numalign=\"center\"))"
   ]
  },
  {
   "cell_type": "code",
   "execution_count": 6,
   "metadata": {},
   "outputs": [
    {
     "name": "stdout",
     "output_type": "stream",
     "text": [
      "|   id   |  minutes  |\n",
      "|--------|-----------|\n",
      "| 495181 |    40     |\n",
      "| 246632 |    245    |\n",
      "| 458009 |    20     |\n",
      "| 325903 |    40     |\n",
      "| 117453 |    20     |\n"
     ]
    }
   ],
   "source": [
    "# Дополнительный вариант решения с помощью модуля tabulate\n",
    "from tabulate import tabulate\n",
    "\n",
    "print(tabulate(recipes[['id', 'minutes']].sample(5), \n",
    "               headers='keys', \n",
    "               tablefmt=\"github\", \n",
    "               showindex=False, \n",
    "               numalign=\"center\"))"
   ]
  },
  {
   "cell_type": "markdown",
   "metadata": {},
   "source": [
    "2\\. Напишите функцию `show_info`, которая по данным о рецепте создает строку (в смысле объекта python) с описанием следующего вида:\n",
    "\n",
    "```\n",
    "\"Название Из Нескольких Слов\"\n",
    "\n",
    "1. Шаг 1\n",
    "2. Шаг 2\n",
    "----------\n",
    "Автор: contributor_id\n",
    "Среднее время приготовления: minutes минут\n",
    "```\n",
    "\n",
    "    \n",
    "Данные для создания строки получите из файлов `recipes_sample.csv` (__ЛР2__) и `steps_sample.xml` (__ЛР3__). \n",
    "Вызовите данную функцию для рецепта с id `170895` и выведите (через `print`) полученную строку на экран."
   ]
  },
  {
   "cell_type": "code",
   "execution_count": 7,
   "metadata": {},
   "outputs": [],
   "source": [
    "# функция форматированного вывода информации о рецепте\n",
    "def show_info(name, steps, minutes, author_id):\n",
    "    name = f'\"{name.title()}\"'\n",
    "    steps_str = ''\n",
    "    for step in steps:\n",
    "        steps_str += f'\\n{steps.index(step)+1}. ' + step.capitalize()\n",
    "\n",
    "    # формирование итоговой строки\n",
    "    result = f\"{name}\\n{steps_str}\\n{'-'*10}\\nАвтор: {author_id}\\nСреднее время приготовления: {minutes} минут\\n\"\n",
    "\n",
    "    return result"
   ]
  },
  {
   "cell_type": "code",
   "execution_count": 8,
   "metadata": {},
   "outputs": [],
   "source": [
    "assert (\n",
    "    show_info(\n",
    "        name=\"george s at the cove black bean soup\",\n",
    "        steps=[\n",
    "            \"clean the leeks and discard the dark green portions\",\n",
    "            \"cut the leeks lengthwise then into one-inch pieces\",\n",
    "            \"melt the butter in a medium skillet , med\",\n",
    "        ],\n",
    "        minutes=90,\n",
    "        author_id=35193,\n",
    "    )\n",
    "    == '\"George S At The Cove Black Bean Soup\"\\n\\n1. Clean the leeks and discard the dark green portions\\n2. Cut the leeks lengthwise then into one-inch pieces\\n3. Melt the butter in a medium skillet , med\\n----------\\nАвтор: 35193\\nСреднее время приготовления: 90 минут\\n'\n",
    ")"
   ]
  },
  {
   "cell_type": "code",
   "execution_count": 9,
   "metadata": {},
   "outputs": [],
   "source": [
    "# Открываем файл с данными и считываем его содержимое\n",
    "with open('data\\steps_sample.xml', 'r') as xml_data:\n",
    "    steps_sample = xml_data.read()\n",
    "\n",
    "# Используем библиотеку BeautifulSoup для парсинга XML\n",
    "Bs_data = BeautifulSoup(steps_sample, \"xml\")\n",
    "\n",
    "# Создаем словарь, где ключами являются id рецептов, а значениями - списки шагов приготовления\n",
    "recipes_steps = {}\n",
    "for recipe in Bs_data.find_all('recipe'):\n",
    "    recipes_steps[int(recipe.find('id').text)] = [step.text for step in recipe.find_all('step')]"
   ]
  },
  {
   "cell_type": "code",
   "execution_count": 10,
   "metadata": {},
   "outputs": [],
   "source": [
    "# Создаем DataFrame из словаря recipes_steps\n",
    "steps = pd.DataFrame({\"recipe_id\": recipes_steps.keys(), \"steps\": recipes_steps.values()})"
   ]
  },
  {
   "cell_type": "code",
   "execution_count": 11,
   "metadata": {},
   "outputs": [],
   "source": [
    "# Объединяем два DataFrame по столбцу \"id\"/\"recipe_id\"\n",
    "recipe_steps_df = pd.DataFrame.merge(recipes, \n",
    "                                  steps, \n",
    "                                  left_on='id', \n",
    "                                  right_on='recipe_id')[['name', 'id', 'steps', 'minutes', 'contributor_id']]\n",
    "\n",
    "# Переименовываем столбец \"contributor_id\" в \"author_id\"\n",
    "recipe_steps_df = recipe_steps_df.rename(columns={'contributor_id':'author_id'})\n",
    "\n",
    "# Устанавливаем столбец \"id\" в качестве индекса\n",
    "recipe_steps_df = recipe_steps_df.set_index('id')"
   ]
  },
  {
   "cell_type": "code",
   "execution_count": 12,
   "metadata": {},
   "outputs": [
    {
     "name": "stdout",
     "output_type": "stream",
     "text": [
      "\"Leeks And Parsnips  Sauteed Or Creamed\"\n",
      "\n",
      "1. Clean the leeks and discard the dark green portions\n",
      "2. Cut the leeks lengthwise then into one-inch pieces\n",
      "3. Melt the butter in a medium skillet , med\n",
      "4. Heat\n",
      "5. Add the garlic and fry 'til fragrant\n",
      "6. Add leeks and fry until the leeks are tender , about 6-minutes\n",
      "7. Meanwhile , peel and chunk the parsnips into one-inch pieces\n",
      "8. Place in a steaming basket and steam 'til they are as tender as you prefer\n",
      "9. I like them fork-tender\n",
      "10. Drain parsnips and add to the skillet with the leeks\n",
      "11. Add salt and pepper\n",
      "12. Gently sautee together for 5-minutes\n",
      "13. At this point you can serve it , or continue on and cream it:\n",
      "14. In a jar with a screw top , add the half-n-half and arrowroot\n",
      "15. Shake 'til blended\n",
      "16. Turn heat to low under the leeks and parsnips\n",
      "17. Pour in the arrowroot mixture , stirring gently as you pour\n",
      "18. If too thick , gradually add the water\n",
      "19. Let simmer for a couple of minutes\n",
      "20. Taste to adjust seasoning , probably an additional 1 / 2 teaspoon salt\n",
      "21. Serve warm\n",
      "----------\n",
      "Автор: 8377\n",
      "Среднее время приготовления: 27 минут\n",
      "\n"
     ]
    }
   ],
   "source": [
    "# конвертируем данные строки с id = 170895 в словарь\n",
    "recipe_info = recipe_steps_df.loc[170895].to_dict()\n",
    "\n",
    "# вызываем функцию show_info\n",
    "print(show_info(**recipe_info))"
   ]
  },
  {
   "cell_type": "markdown",
   "metadata": {},
   "source": [
    "## Работа с регулярными выражениями"
   ]
  },
  {
   "cell_type": "markdown",
   "metadata": {},
   "source": [
    "3\\. Напишите регулярное выражение, которое ищет следующий паттерн в строке: число (1 цифра или более), затем пробел, затем слова: hour или hours или minute или minutes. Произведите поиск по данному регулярному выражению в каждом шаге рецепта с id 25082. Выведите на экран все непустые результаты, найденные по данному шаблону."
   ]
  },
  {
   "cell_type": "code",
   "execution_count": 13,
   "metadata": {},
   "outputs": [
    {
     "name": "stdout",
     "output_type": "stream",
     "text": [
      "20 minutes\n",
      "10 minutes\n",
      "2 hours\n",
      "10 minutes\n",
      "20 minutes, 30 minutes\n"
     ]
    }
   ],
   "source": [
    "# шаблон регулярного выражения\n",
    "pattern = r'(\\d+\\shours?|\\d+\\sminutes?)'\n",
    "\n",
    "# Ищем все совпадения шаблона в каждой строке шага\n",
    "for string in recipe_steps_df.loc[25082]['steps']:\n",
    "    matches = re.findall(pattern, string)\n",
    "    if matches:\n",
    "        print(', '.join(matches))"
   ]
  },
  {
   "cell_type": "markdown",
   "metadata": {},
   "source": [
    "4\\. Напишите регулярное выражение, которое ищет шаблон вида \"this..., but\" _в начале строки_ . Между словом \"this\" и частью \", but\" может находиться произвольное число букв, цифр, знаков подчеркивания и пробелов. Никаких других символов вместо многоточия быть не может. Пробел между запятой и словом \"but\" может присутствовать или отсутствовать.\n",
    "\n",
    "Используя строковые методы `pd.Series`, выясните, для каких рецептов данный шаблон содержится в тексте описания. Выведите на экран количество таких рецептов и 3 примера подходящих описаний (текст описания должен быть виден на экране полностью)."
   ]
  },
  {
   "cell_type": "code",
   "execution_count": 14,
   "metadata": {},
   "outputs": [
    {
     "name": "stdout",
     "output_type": "stream",
     "text": [
      "Количество рецептов, в которых найден шаблон:  235\n",
      "\n",
      " Примеры: \n",
      "\n",
      "\u001b[1;31mthis recipe is not exactly like they have around here, but\u001b[0m i am working on it.  this will give you a really good idea of what we bring home from a donut shop in and around houston.  these breakfast treats come from the czech immigrants who settled the texas hill country (between houston and austin and around austin), and frequently come in a fruit type (dimpled and filled, like a danish) that is also available up north, and meat (which apparently doesn't exist anywhere else but around here in texas).  ham and cheese has always been one of my favorites.  the amount of flour you use will greatly depend on whether you are making this in or around houston right before or after a rainstorm, as i always seem to; or if you are making it someplace with a normal, low level of humidity.  start the sponge the night before.\n",
      "\n",
      "\u001b[1;31mthis is a very different dessert but\u001b[0m for gorgonzola lovers it's a special treat.\n",
      "\n",
      "\u001b[1;31mthis classic chinese dish is so simple, but\u001b[0m full of flavor!  it's one of my favorites, and i order it with nearly every meal in china.  you can have this as a side dish, or even a main dish over rice.  there are a few different ways to make this; but this way is my personal favorite.  don't be afraid to throw in some ground pork, cumin seeds, more or less eggs or tomatoes, etc.  i will frequently drizzle sesame oil on top of the finished dish.\n",
      "\n"
     ]
    }
   ],
   "source": [
    "# заменяем пустые значения на пустые строки\n",
    "recipes['description'] = recipes['description'].fillna('')\n",
    "\n",
    "# шаблон регулярного выражения\n",
    "pattern = r'^this[\\w\\s]*,?\\s?but\\b'\n",
    "\n",
    "# находим рецепты, в которых найден шаблон\n",
    "matching_recipes = recipes[recipes['description'].str.contains(pattern)]\n",
    "\n",
    "# выводим количество рецептов и примеры описаний\n",
    "print(\"Количество рецептов, в которых найден шаблон: \", len(matching_recipes))\n",
    "\n",
    "print('\\n', \"Примеры:\", '\\n')\n",
    "for description in matching_recipes['description'].sample(3):\n",
    "    print(re.sub(pattern, '\\033[1;31m\\\\g<0>\\033[0m', description), end='\\n\\n')"
   ]
  },
  {
   "cell_type": "markdown",
   "metadata": {},
   "source": [
    "5\\. В текстах шагов рецептов обыкновенные дроби имеют вид \"a / b\". Используя регулярные выражения, уберите в тексте шагов рецепта с id 72367 пробелы до и после символа дроби. Выведите на экран шаги этого рецепта после их изменения."
   ]
  },
  {
   "cell_type": "code",
   "execution_count": 15,
   "metadata": {},
   "outputs": [
    {
     "name": "stdout",
     "output_type": "stream",
     "text": [
      "mix butter , flour , 1/3 c\n",
      "sugar and 1-1/4 t\n",
      "vanilla\n",
      "press into greased 9\" springform pan\n",
      "mix cream cheese , 1/4 c\n",
      "sugar , eggs and 1/2 t\n",
      "vanilla beating until fluffy\n",
      "pour over dough\n",
      "combine apples , 1/3 c\n",
      "sugar and cinnamon\n",
      "arrange on top of cream cheese mixture and sprinkle with almonds\n",
      "bake at 350 for 45-55 minutes , or until tester comes out clean\n"
     ]
    }
   ],
   "source": [
    "# получаем текст шагов рецепта с нужным id\n",
    "steps = recipe_steps_df.loc[72367]['steps']\n",
    "\n",
    "# заменяем для каждого шага пробелы перед и после символов дробей\n",
    "for i in range(len(steps)):\n",
    "    steps[i] = re.sub(r'\\s*/\\s*', '/', steps[i])\n",
    "\n",
    "# выводим текст шагов после изменения\n",
    "print('\\n'.join(steps))"
   ]
  },
  {
   "cell_type": "markdown",
   "metadata": {},
   "source": [
    "### Сегментация текста"
   ]
  },
  {
   "cell_type": "markdown",
   "metadata": {},
   "source": [
    "6\\. Разбейте тексты шагов рецептов на слова при помощи пакета `nltk`. Посчитайте и выведите на экран кол-во уникальных слов среди всех рецептов. Словом называется любая последовательность алфавитных символов (для проверки можно воспользоваться `str.isalpha`). При подсчете количества уникальных слов не учитывайте регистр."
   ]
  },
  {
   "cell_type": "code",
   "execution_count": 16,
   "metadata": {},
   "outputs": [
    {
     "name": "stdout",
     "output_type": "stream",
     "text": [
      "Кол-во уникальных слов среди всех рецептов: 14926\n"
     ]
    }
   ],
   "source": [
    "# Создаем пустое множество для хранения уникальных слов\n",
    "unique_words = set()\n",
    "\n",
    "# Итерируемся по столбцу \"steps\" в DataFrame\n",
    "for steps in recipe_steps_df['steps']:\n",
    "    # Объединяем список строк \"steps\" в одну большую строку, разделяя пробелами\n",
    "    steps_str = ' '.join(steps)\n",
    "    # Токенизируем строку \"steps_str\", приводим все токены к нижнему регистру и фильтруем только слова\n",
    "    words = [token.lower() for token in nltk.word_tokenize(steps_str) if token.isalpha()]\n",
    "    # Добавляем все уникальные слова из списка \"words\" в множество \"unique_words\"\n",
    "    unique_words.update(words)        \n",
    "\n",
    "# вывод количества уникальных слов на экран\n",
    "print(f'Кол-во уникальных слов среди всех рецептов: {len(unique_words)}')"
   ]
  },
  {
   "cell_type": "markdown",
   "metadata": {},
   "source": [
    "7\\. Разбейте описания рецептов из `recipes` на предложения при помощи пакета `nltk`. Найдите 5 самых длинных описаний (по количеству _предложений_) рецептов в датасете и выведите строки фрейма, соответствующие этим рецептами, в порядке убывания длины."
   ]
  },
  {
   "cell_type": "code",
   "execution_count": 17,
   "metadata": {},
   "outputs": [
    {
     "data": {
      "text/html": [
       "<div>\n",
       "<style scoped>\n",
       "    .dataframe tbody tr th:only-of-type {\n",
       "        vertical-align: middle;\n",
       "    }\n",
       "\n",
       "    .dataframe tbody tr th {\n",
       "        vertical-align: top;\n",
       "    }\n",
       "\n",
       "    .dataframe thead th {\n",
       "        text-align: right;\n",
       "    }\n",
       "</style>\n",
       "<table border=\"1\" class=\"dataframe\">\n",
       "  <thead>\n",
       "    <tr style=\"text-align: right;\">\n",
       "      <th></th>\n",
       "      <th>name</th>\n",
       "      <th>id</th>\n",
       "      <th>minutes</th>\n",
       "      <th>contributor_id</th>\n",
       "      <th>submitted</th>\n",
       "      <th>n_steps</th>\n",
       "      <th>description</th>\n",
       "      <th>n_ingredients</th>\n",
       "      <th>len_sentences</th>\n",
       "    </tr>\n",
       "  </thead>\n",
       "  <tbody>\n",
       "    <tr>\n",
       "      <th>18408</th>\n",
       "      <td>my favorite buttercream icing for decorating</td>\n",
       "      <td>334113</td>\n",
       "      <td>30</td>\n",
       "      <td>681465</td>\n",
       "      <td>2008-10-30</td>\n",
       "      <td>12.0</td>\n",
       "      <td>this wonderful icing is used for icing cakes a...</td>\n",
       "      <td>NaN</td>\n",
       "      <td>76</td>\n",
       "    </tr>\n",
       "    <tr>\n",
       "      <th>481</th>\n",
       "      <td>alligator claws  avocado fritters  with chipot...</td>\n",
       "      <td>287008</td>\n",
       "      <td>45</td>\n",
       "      <td>765354</td>\n",
       "      <td>2008-02-19</td>\n",
       "      <td>NaN</td>\n",
       "      <td>a translucent golden-brown crust allows the gr...</td>\n",
       "      <td>9.0</td>\n",
       "      <td>27</td>\n",
       "    </tr>\n",
       "    <tr>\n",
       "      <th>22566</th>\n",
       "      <td>rich barley mushroom soup</td>\n",
       "      <td>328708</td>\n",
       "      <td>60</td>\n",
       "      <td>221776</td>\n",
       "      <td>2008-10-03</td>\n",
       "      <td>NaN</td>\n",
       "      <td>this is one of the best soups i've ever made a...</td>\n",
       "      <td>10.0</td>\n",
       "      <td>24</td>\n",
       "    </tr>\n",
       "    <tr>\n",
       "      <th>6779</th>\n",
       "      <td>chocolate tea</td>\n",
       "      <td>205348</td>\n",
       "      <td>6</td>\n",
       "      <td>428824</td>\n",
       "      <td>2007-01-14</td>\n",
       "      <td>NaN</td>\n",
       "      <td>i wrote this because there are an astounding l...</td>\n",
       "      <td>NaN</td>\n",
       "      <td>23</td>\n",
       "    </tr>\n",
       "    <tr>\n",
       "      <th>16296</th>\n",
       "      <td>little bunny foo foo cake  carrot cake  with c...</td>\n",
       "      <td>316000</td>\n",
       "      <td>68</td>\n",
       "      <td>689540</td>\n",
       "      <td>2008-07-27</td>\n",
       "      <td>14.0</td>\n",
       "      <td>the first time i made this cake i grated a mil...</td>\n",
       "      <td>NaN</td>\n",
       "      <td>23</td>\n",
       "    </tr>\n",
       "  </tbody>\n",
       "</table>\n",
       "</div>"
      ],
      "text/plain": [
       "                                                    name      id  minutes  \\\n",
       "18408       my favorite buttercream icing for decorating  334113       30   \n",
       "481    alligator claws  avocado fritters  with chipot...  287008       45   \n",
       "22566                          rich barley mushroom soup  328708       60   \n",
       "6779                                       chocolate tea  205348        6   \n",
       "16296  little bunny foo foo cake  carrot cake  with c...  316000       68   \n",
       "\n",
       "       contributor_id   submitted  n_steps  \\\n",
       "18408          681465  2008-10-30     12.0   \n",
       "481            765354  2008-02-19      NaN   \n",
       "22566          221776  2008-10-03      NaN   \n",
       "6779           428824  2007-01-14      NaN   \n",
       "16296          689540  2008-07-27     14.0   \n",
       "\n",
       "                                             description  n_ingredients  \\\n",
       "18408  this wonderful icing is used for icing cakes a...            NaN   \n",
       "481    a translucent golden-brown crust allows the gr...            9.0   \n",
       "22566  this is one of the best soups i've ever made a...           10.0   \n",
       "6779   i wrote this because there are an astounding l...            NaN   \n",
       "16296  the first time i made this cake i grated a mil...            NaN   \n",
       "\n",
       "       len_sentences  \n",
       "18408             76  \n",
       "481               27  \n",
       "22566             24  \n",
       "6779              23  \n",
       "16296             23  "
      ]
     },
     "execution_count": 17,
     "metadata": {},
     "output_type": "execute_result"
    }
   ],
   "source": [
    "# Определяем функцию, которая принимает текстовую строку и возвращает количество предложений в этой строке\n",
    "def len_sentences(text):\n",
    "    return len(nltk.tokenize.sent_tokenize(text))\n",
    "\n",
    "# Применяем функцию len_sentences() к столбцу 'description' \n",
    "recipes['len_sentences'] = recipes['description'].apply(len_sentences)\n",
    "\n",
    "# Находим 5 рецептов с наибольшим количеством предложений в столбце 'description'\n",
    "recipes.nlargest(5, 'len_sentences')"
   ]
  },
  {
   "cell_type": "markdown",
   "metadata": {},
   "source": [
    "8\\. Напишите функцию, которая для заданного предложения выводит информацию о частях речи слов, входящих в предложение, в следующем виде:\n",
    "```\n",
    "PRP   VBD   DT      NNS     CC   VBD      NNS        RB   \n",
    " I  omitted the raspberries and added strawberries instead\n",
    "``` \n",
    "Для определения части речи слова можно воспользоваться `nltk.pos_tag`.\n",
    "\n",
    "Проверьте работоспособность функции на названии рецепта с id 241106.\n",
    "\n",
    "Обратите внимание, что часть речи должна находиться ровно посередине над соотвествующим словом, а между самими словами должен быть ровно один пробел.\n"
   ]
  },
  {
   "cell_type": "code",
   "execution_count": 18,
   "metadata": {},
   "outputs": [
    {
     "name": "stdout",
     "output_type": "stream",
     "text": [
      "   JJ     NNS    IN     NNS    VBP    JJ   CC   JJ    NNS  \n",
      "eggplant steaks with chickpeas feta cheese and black olives\n"
     ]
    }
   ],
   "source": [
    "def pos_info(sentence):\n",
    "    # Получаем список кортежей (слово, часть речи) для каждого слова в предложении\n",
    "    pos_tags = nltk.pos_tag(nltk.word_tokenize(sentence))\n",
    "    \n",
    "    # Создаем пустые списки для строк с тегами и словами\n",
    "    tags_line = []\n",
    "    words_line = []\n",
    "    \n",
    "    # Для каждого кортежа (слово, часть речи) добавляем в соответствующие списки\n",
    "    # отформатированные строки с тегом и словом\n",
    "    for token, pos in pos_tags:\n",
    "        # Определяем максимальную длину между словом и тегом\n",
    "        max_len = max(len(token), len(pos))\n",
    "        \n",
    "        # Добавляем в списки отформатированную строки, выровненные по центру\n",
    "        tags_line.append('{:{align}{width}}'.format(pos, align='^', width=max_len))\n",
    "        words_line.append('{:{align}{width}}'.format(token, align='^', width=max_len))\n",
    "        \n",
    "    # выводим результат    \n",
    "    print(' '.join(tags_line))\n",
    "    print(' '.join(words_line))\n",
    "\n",
    "# Пример использования функции\n",
    "pos_info(recipe_steps_df.loc[241106]['name'])"
   ]
  }
 ],
 "metadata": {
  "kernelspec": {
   "display_name": "Python 3 (ipykernel)",
   "language": "python",
   "name": "python3"
  },
  "language_info": {
   "codemirror_mode": {
    "name": "ipython",
    "version": 3
   },
   "file_extension": ".py",
   "mimetype": "text/x-python",
   "name": "python",
   "nbconvert_exporter": "python",
   "pygments_lexer": "ipython3",
   "version": "3.9.13"
  }
 },
 "nbformat": 4,
 "nbformat_minor": 4
}
